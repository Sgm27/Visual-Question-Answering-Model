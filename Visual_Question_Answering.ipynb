{
  "cells": [
    {
      "cell_type": "markdown",
      "metadata": {},
      "source": [
        "## Download Dataset"
      ]
    },
    {
      "cell_type": "code",
      "execution_count": 2,
      "metadata": {
        "colab": {
          "base_uri": "https://localhost:8080/"
        },
        "id": "44OnZqcJycWs",
        "outputId": "2638810a-f2f7-405e-cdfc-dc8703f9d1f8"
      },
      "outputs": [
        {
          "name": "stdout",
          "output_type": "stream",
          "text": [
            "/usr/local/lib/python3.10/dist-packages/gdown/__main__.py:140: FutureWarning: Option `--id` was deprecated in version 4.3.1 and will be removed in 5.0. You don't need to pass it anymore to use a file ID.\n",
            "  warnings.warn(\n",
            "Downloading...\n",
            "From (original): https://drive.google.com/uc?id=1XXh6awfODaCseZeHN5Xt9ohhTY6WqFuw\n",
            "From (redirected): https://drive.google.com/uc?id=1XXh6awfODaCseZeHN5Xt9ohhTY6WqFuw&confirm=t&uuid=9c50420b-6e5b-4da8-90bf-7b1d63a803d6\n",
            "To: /content/vqa_coco_dataset.zip\n",
            "100% 196M/196M [00:01<00:00, 150MB/s]\n"
          ]
        }
      ],
      "source": [
        "#https://drive.google.com/file/d/1XXh6awfODaCseZeHN5Xt9ohhTY6WqFuw/view?usp=drive_link\n",
        "!gdown --id 1XXh6awfODaCseZeHN5Xt9ohhTY6WqFuw"
      ]
    },
    {
      "cell_type": "code",
      "execution_count": 3,
      "metadata": {
        "colab": {
          "base_uri": "https://localhost:8080/"
        },
        "collapsed": true,
        "id": "CC9GePkSlyp1",
        "outputId": "aac90f7c-3115-4b84-c0b6-e85348ae8098"
      },
      "outputs": [
        {
          "name": "stdout",
          "output_type": "stream",
          "text": [
            "Requirement already satisfied: timm in /usr/local/lib/python3.10/dist-packages (1.0.11)\n",
            "Requirement already satisfied: torch in /usr/local/lib/python3.10/dist-packages (from timm) (2.5.0+cu121)\n",
            "Requirement already satisfied: torchvision in /usr/local/lib/python3.10/dist-packages (from timm) (0.20.0+cu121)\n",
            "Requirement already satisfied: pyyaml in /usr/local/lib/python3.10/dist-packages (from timm) (6.0.2)\n",
            "Requirement already satisfied: huggingface_hub in /usr/local/lib/python3.10/dist-packages (from timm) (0.24.7)\n",
            "Requirement already satisfied: safetensors in /usr/local/lib/python3.10/dist-packages (from timm) (0.4.5)\n",
            "Requirement already satisfied: filelock in /usr/local/lib/python3.10/dist-packages (from huggingface_hub->timm) (3.16.1)\n",
            "Requirement already satisfied: fsspec>=2023.5.0 in /usr/local/lib/python3.10/dist-packages (from huggingface_hub->timm) (2024.6.1)\n",
            "Requirement already satisfied: packaging>=20.9 in /usr/local/lib/python3.10/dist-packages (from huggingface_hub->timm) (24.1)\n",
            "Requirement already satisfied: requests in /usr/local/lib/python3.10/dist-packages (from huggingface_hub->timm) (2.32.3)\n",
            "Requirement already satisfied: tqdm>=4.42.1 in /usr/local/lib/python3.10/dist-packages (from huggingface_hub->timm) (4.66.5)\n",
            "Requirement already satisfied: typing-extensions>=3.7.4.3 in /usr/local/lib/python3.10/dist-packages (from huggingface_hub->timm) (4.12.2)\n",
            "Requirement already satisfied: networkx in /usr/local/lib/python3.10/dist-packages (from torch->timm) (3.4.2)\n",
            "Requirement already satisfied: jinja2 in /usr/local/lib/python3.10/dist-packages (from torch->timm) (3.1.4)\n",
            "Requirement already satisfied: sympy==1.13.1 in /usr/local/lib/python3.10/dist-packages (from torch->timm) (1.13.1)\n",
            "Requirement already satisfied: mpmath<1.4,>=1.1.0 in /usr/local/lib/python3.10/dist-packages (from sympy==1.13.1->torch->timm) (1.3.0)\n",
            "Requirement already satisfied: numpy in /usr/local/lib/python3.10/dist-packages (from torchvision->timm) (1.26.4)\n",
            "Requirement already satisfied: pillow!=8.3.*,>=5.3.0 in /usr/local/lib/python3.10/dist-packages (from torchvision->timm) (10.4.0)\n",
            "Requirement already satisfied: MarkupSafe>=2.0 in /usr/local/lib/python3.10/dist-packages (from jinja2->torch->timm) (3.0.2)\n",
            "Requirement already satisfied: charset-normalizer<4,>=2 in /usr/local/lib/python3.10/dist-packages (from requests->huggingface_hub->timm) (3.4.0)\n",
            "Requirement already satisfied: idna<4,>=2.5 in /usr/local/lib/python3.10/dist-packages (from requests->huggingface_hub->timm) (3.10)\n",
            "Requirement already satisfied: urllib3<3,>=1.21.1 in /usr/local/lib/python3.10/dist-packages (from requests->huggingface_hub->timm) (2.2.3)\n",
            "Requirement already satisfied: certifi>=2017.4.17 in /usr/local/lib/python3.10/dist-packages (from requests->huggingface_hub->timm) (2024.8.30)\n",
            "Collecting torchtext==0.5.0\n",
            "  Downloading torchtext-0.5.0-py3-none-any.whl.metadata (6.2 kB)\n",
            "Requirement already satisfied: tqdm in /usr/local/lib/python3.10/dist-packages (from torchtext==0.5.0) (4.66.5)\n",
            "Requirement already satisfied: requests in /usr/local/lib/python3.10/dist-packages (from torchtext==0.5.0) (2.32.3)\n",
            "Requirement already satisfied: torch in /usr/local/lib/python3.10/dist-packages (from torchtext==0.5.0) (2.5.0+cu121)\n",
            "Requirement already satisfied: numpy in /usr/local/lib/python3.10/dist-packages (from torchtext==0.5.0) (1.26.4)\n",
            "Requirement already satisfied: six in /usr/local/lib/python3.10/dist-packages (from torchtext==0.5.0) (1.16.0)\n",
            "Requirement already satisfied: sentencepiece in /usr/local/lib/python3.10/dist-packages (from torchtext==0.5.0) (0.2.0)\n",
            "Requirement already satisfied: charset-normalizer<4,>=2 in /usr/local/lib/python3.10/dist-packages (from requests->torchtext==0.5.0) (3.4.0)\n",
            "Requirement already satisfied: idna<4,>=2.5 in /usr/local/lib/python3.10/dist-packages (from requests->torchtext==0.5.0) (3.10)\n",
            "Requirement already satisfied: urllib3<3,>=1.21.1 in /usr/local/lib/python3.10/dist-packages (from requests->torchtext==0.5.0) (2.2.3)\n",
            "Requirement already satisfied: certifi>=2017.4.17 in /usr/local/lib/python3.10/dist-packages (from requests->torchtext==0.5.0) (2024.8.30)\n",
            "Requirement already satisfied: filelock in /usr/local/lib/python3.10/dist-packages (from torch->torchtext==0.5.0) (3.16.1)\n",
            "Requirement already satisfied: typing-extensions>=4.8.0 in /usr/local/lib/python3.10/dist-packages (from torch->torchtext==0.5.0) (4.12.2)\n",
            "Requirement already satisfied: networkx in /usr/local/lib/python3.10/dist-packages (from torch->torchtext==0.5.0) (3.4.2)\n",
            "Requirement already satisfied: jinja2 in /usr/local/lib/python3.10/dist-packages (from torch->torchtext==0.5.0) (3.1.4)\n",
            "Requirement already satisfied: fsspec in /usr/local/lib/python3.10/dist-packages (from torch->torchtext==0.5.0) (2024.6.1)\n",
            "Requirement already satisfied: sympy==1.13.1 in /usr/local/lib/python3.10/dist-packages (from torch->torchtext==0.5.0) (1.13.1)\n",
            "Requirement already satisfied: mpmath<1.4,>=1.1.0 in /usr/local/lib/python3.10/dist-packages (from sympy==1.13.1->torch->torchtext==0.5.0) (1.3.0)\n",
            "Requirement already satisfied: MarkupSafe>=2.0 in /usr/local/lib/python3.10/dist-packages (from jinja2->torch->torchtext==0.5.0) (3.0.2)\n",
            "Downloading torchtext-0.5.0-py3-none-any.whl (73 kB)\n",
            "\u001b[2K   \u001b[90m━━━━━━━━━━━━━━━━━━━━━━━━━━━━━━━━━━━━━━━━\u001b[0m \u001b[32m73.2/73.2 kB\u001b[0m \u001b[31m3.2 MB/s\u001b[0m eta \u001b[36m0:00:00\u001b[0m\n",
            "\u001b[?25hInstalling collected packages: torchtext\n",
            "Successfully installed torchtext-0.5.0\n"
          ]
        }
      ],
      "source": [
        "!pip install timm\n",
        "!pip install torchtext==0.5.0"
      ]
    },
    {
      "cell_type": "code",
      "execution_count": 4,
      "metadata": {
        "id": "MHVDe6MlrFlO"
      },
      "outputs": [],
      "source": [
        "import os\n",
        "os.makedirs('vqa_coco_dataset', exist_ok=True)"
      ]
    },
    {
      "cell_type": "code",
      "execution_count": 5,
      "metadata": {
        "id": "x-3kUn59q9cv"
      },
      "outputs": [],
      "source": [
        "!unzip -q /content/vqa_coco_dataset.zip -d /content/vqa_coco_dataset"
      ]
    },
    {
      "cell_type": "markdown",
      "metadata": {},
      "source": [
        "### **Import Libraries**"
      ]
    },
    {
      "cell_type": "code",
      "execution_count": null,
      "metadata": {
        "id": "oW5G1G6tlyEe"
      },
      "outputs": [],
      "source": [
        "import torch\n",
        "import torch.nn as nn\n",
        "import torchtext\n",
        "import os\n",
        "import numpy as np\n",
        "import spacy\n",
        "\n",
        "from PIL import Image\n",
        "from torch.utils.data import DataLoader, Dataset\n",
        "from torchtext.data.utils import get_tokenizer\n",
        "from torchvision import transforms\n",
        "from torchtext.vocab import Vocab\n",
        "from collections import Counter\n",
        "\n",
        "from transformers import ViTModel, ViTImageProcessor\n",
        "from transformers import AutoTokenizer, RobertaModel\n",
        "\n",
        "# ignore warnings\n",
        "import warnings\n",
        "warnings.filterwarnings(\"ignore\")"
      ]
    },
    {
      "cell_type": "code",
      "execution_count": null,
      "metadata": {
        "colab": {
          "base_uri": "https://localhost:8080/"
        },
        "id": "cR27PkZwlyEf",
        "outputId": "9b75216b-c366-4e30-e3da-72e3e2fc8a30"
      },
      "outputs": [
        {
          "name": "stdout",
          "output_type": "stream",
          "text": [
            "2.5.0+cu121\n",
            "0.5.0\n"
          ]
        }
      ],
      "source": [
        "print(torch.__version__)\n",
        "print(torchtext.__version__)"
      ]
    },
    {
      "cell_type": "markdown",
      "metadata": {},
      "source": [
        "### **Get Data For Training**"
      ]
    },
    {
      "cell_type": "code",
      "execution_count": null,
      "metadata": {
        "id": "hTvZTCi7lyEf"
      },
      "outputs": [],
      "source": [
        "def get_data(dataset_path):\n",
        "    data = []\n",
        "    with open(dataset_path, 'r') as f:\n",
        "        lines = f.readlines()\n",
        "        for line in lines:\n",
        "            temp = line.split('\\t')\n",
        "            image_path = temp[0][:-2]\n",
        "            qa = temp[1].split('?')\n",
        "            answer = qa[-1].strip()\n",
        "\n",
        "            data_sample = {\n",
        "                'image_path': image_path,\n",
        "                'question': qa[0] + '?',\n",
        "                'answer': answer\n",
        "            }\n",
        "            data.append(data_sample)\n",
        "    return data"
      ]
    },
    {
      "cell_type": "code",
      "execution_count": null,
      "metadata": {
        "id": "_KuOZsdWlyEg"
      },
      "outputs": [],
      "source": [
        "root_dir = os.getcwd()\n",
        "train_path = os.path.join(root_dir, 'vqa_coco_dataset', 'vaq2.0.TrainImages.txt')\n",
        "test_path = os.path.join(root_dir, 'vqa_coco_dataset', 'vaq2.0.TestImages.txt')\n",
        "val_path = os.path.join(root_dir, 'vqa_coco_dataset', 'vaq2.0.DevImages.txt')\n",
        "\n",
        "train_data = get_data(train_path)\n",
        "test_data = get_data(test_path)\n",
        "val_data = get_data(val_path)"
      ]
    },
    {
      "cell_type": "code",
      "execution_count": null,
      "metadata": {
        "colab": {
          "base_uri": "https://localhost:8080/"
        },
        "id": "a2mDK-T8lyEg",
        "outputId": "21a2635e-ef0e-47a6-b550-a319728ede28"
      },
      "outputs": [
        {
          "name": "stdout",
          "output_type": "stream",
          "text": [
            "7846\n",
            "2022\n",
            "1952\n"
          ]
        }
      ],
      "source": [
        "print(len(train_data))\n",
        "print(len(test_data))\n",
        "print(len(val_data))"
      ]
    },
    {
      "cell_type": "markdown",
      "metadata": {},
      "source": [
        "### **Build Vocabulary**"
      ]
    },
    {
      "cell_type": "code",
      "execution_count": null,
      "metadata": {
        "id": "BD69bBwnlyEg"
      },
      "outputs": [],
      "source": [
        "eng = spacy.load('en_core_web_sm')\n",
        "\n",
        "def get_token(data_inter):\n",
        "    for data in data_inter:\n",
        "        question = data['question']\n",
        "        yield [token.text for token in eng.tokenizer(question)]\n",
        "\n",
        "counter = Counter()\n",
        "\n",
        "for tokens in get_token(train_data):\n",
        "    counter.update(tokens)\n",
        "\n",
        "special_tokens = ['<unk>', '<pad>', '<sos>', '<eos>']\n",
        "for token in special_tokens:\n",
        "    counter.update([token])\n",
        "\n",
        "vocab = Vocab(counter, specials=special_tokens)"
      ]
    },
    {
      "cell_type": "code",
      "execution_count": null,
      "metadata": {
        "id": "dyXu2GppwLlo"
      },
      "outputs": [],
      "source": [
        "class VocabWrapper:\n",
        "    def __init__(self, vocab):\n",
        "        self.vocab = vocab\n",
        "        self.unk_index = vocab['<unk>']\n",
        "\n",
        "    def __call__(self, text):\n",
        "        return self.vocab.stoi.get(text, self.unk_index)"
      ]
    },
    {
      "cell_type": "code",
      "execution_count": null,
      "metadata": {
        "id": "zMnbaFKClyEg"
      },
      "outputs": [],
      "source": [
        "vocab_wrapper = VocabWrapper(vocab)\n",
        "def tokenizer(question, max_seq_length=20):\n",
        "    tokens = [token.text for token in eng.tokenizer(question)]\n",
        "    tokens = [vocab['<sos>']] + [vocab_wrapper(token) for token in tokens] + [vocab['<eos>']]\n",
        "    if len(tokens) < max_seq_length:\n",
        "        tokens.extend(['<pad>'] * (max_seq_length - len(tokens)))\n",
        "    else:\n",
        "        tokens = tokens[:max_seq_length]\n",
        "\n",
        "    return tokens"
      ]
    },
    {
      "cell_type": "markdown",
      "metadata": {},
      "source": [
        "### **Example of Question Tokenization**"
      ]
    },
    {
      "cell_type": "code",
      "execution_count": null,
      "metadata": {
        "colab": {
          "base_uri": "https://localhost:8080/"
        },
        "id": "JC-Wm9-MlyEg",
        "outputId": "96db450a-27b6-4f99-af53-2644c6ad0960"
      },
      "outputs": [
        {
          "name": "stdout",
          "output_type": "stream",
          "text": [
            "Question: Is this a creamy soup ?\n",
            "Tokenized Question: [2, 6, 5, 7, 1168, 575, 4, 3, '<pad>', '<pad>', '<pad>', '<pad>', '<pad>', '<pad>', '<pad>', '<pad>', '<pad>', '<pad>', '<pad>', '<pad>']\n"
          ]
        }
      ],
      "source": [
        "example_question = train_data[0]['question']\n",
        "print(f\"Question: {example_question}\")\n",
        "print(f\"Tokenized Question: {tokenizer(example_question)}\")"
      ]
    },
    {
      "cell_type": "markdown",
      "metadata": {},
      "source": [
        "### **Example of Get Image**"
      ]
    },
    {
      "cell_type": "code",
      "execution_count": null,
      "metadata": {
        "colab": {
          "base_uri": "https://localhost:8080/",
          "height": 241
        },
        "id": "xu_JI6BalyEg",
        "outputId": "55ef31c4-3236-47f1-944f-54dbed48a66b"
      },
      "outputs": [
        {
          "data": {
            "image/jpeg": "[encoded data removed]",
            "image/png": "[encoded data removed]",
            "text/plain": [
              "<PIL.JpegImagePlugin.JpegImageFile image mode=RGB size=224x224>"
            ]
          },
          "execution_count": 91,
          "metadata": {},
          "output_type": "execute_result"
        }
      ],
      "source": [
        "example_image = Image.open(os.path.join(os.getcwd(), 'vqa_coco_dataset', 'val2014-resised', train_data[0]['image_path']))\n",
        "example_image"
      ]
    },
    {
      "cell_type": "code",
      "execution_count": null,
      "metadata": {
        "id": "nxMsN2OrlyEh"
      },
      "outputs": [],
      "source": [
        "classes = set([data['answer'] for data in train_data])\n",
        "classes_to_idx = {\n",
        "    classes: idx for idx, classes in enumerate(classes)\n",
        "}\n",
        "idx_to_classes = {\n",
        "    idx: classes for classes, idx in classes_to_idx.items()\n",
        "}"
      ]
    },
    {
      "cell_type": "code",
      "execution_count": null,
      "metadata": {
        "colab": {
          "base_uri": "https://localhost:8080/"
        },
        "id": "O5KkiI64lyEh",
        "outputId": "4fcedd68-a999-437c-9c43-afa44f7d72a8"
      },
      "outputs": [
        {
          "name": "stdout",
          "output_type": "stream",
          "text": [
            "{'no': 0, 'yes': 1}\n",
            "{0: 'no', 1: 'yes'}\n"
          ]
        }
      ],
      "source": [
        "print(classes_to_idx)\n",
        "print(idx_to_classes)"
      ]
    },
    {
      "cell_type": "markdown",
      "metadata": {
        "id": "nooxE8FMlyEh"
      },
      "source": [
        "### **Create pytorch dataset**"
      ]
    },
    {
      "cell_type": "code",
      "execution_count": null,
      "metadata": {
        "id": "rKHj9D8JlyEh"
      },
      "outputs": [],
      "source": [
        "class VQADataset(Dataset):\n",
        "    def __init__(\n",
        "        self,\n",
        "        data,\n",
        "        classes_to_idx,\n",
        "        img_feature_extractor,\n",
        "        text_tokenizer,\n",
        "        device,\n",
        "        transforms=None,\n",
        "        root_dir = os.path.join(os.getcwd(), 'vqa_coco_dataset', 'val2014-resised')\n",
        "    ):\n",
        "        self.data = data\n",
        "        self.classes_to_idx = classes_to_idx\n",
        "        self.img_feature_extractor = img_feature_extractor\n",
        "        self.text_tokenizer = text_tokenizer\n",
        "        self.transforms = transforms\n",
        "        self.device = device\n",
        "        self.root_dir = root_dir\n",
        "\n",
        "    def __len__(self):\n",
        "        return len(self.data)\n",
        "\n",
        "    def __getitem__(self, index):\n",
        "        image_path = os.path.join(self.root_dir, self.data[index]['image_path'])\n",
        "        image = Image.open(image_path).convert('RGB')\n",
        "\n",
        "        if self.transforms:\n",
        "            image = self.transforms(image)\n",
        "\n",
        "        image = np.array(image, dtype=np.float32)\n",
        "        image = torch.tensor(image)\n",
        "\n",
        "        if self.img_feature_extractor:\n",
        "            image = self.img_feature_extractor(image, return_tensors='pt')\n",
        "            image = {k: v.to(self.device).squeeze(0) for k, v in image.items()}\n",
        "\n",
        "        question = self.data[index]['question']\n",
        "        if self.text_tokenizer:\n",
        "            question = self.text_tokenizer(\n",
        "                question,\n",
        "                padding='max_length',\n",
        "                max_length=20,\n",
        "                truncation=True,\n",
        "                return_tensors='pt'\n",
        "            )\n",
        "            question = {k: v.to(self.device).squeeze(0) for k, v in question.items()}\n",
        "\n",
        "        answer = self.data[index]['answer']\n",
        "        answer = torch.tensor(\n",
        "            classes_to_idx[answer],\n",
        "            dtype=torch.long\n",
        "        ).to(self.device)\n",
        "\n",
        "        sample = {\n",
        "            'image': image,\n",
        "            'question': question,\n",
        "            'answer': answer\n",
        "        }\n",
        "\n",
        "        return sample"
      ]
    },
    {
      "cell_type": "markdown",
      "metadata": {},
      "source": [
        "### **Define Data Transform** "
      ]
    },
    {
      "cell_type": "code",
      "execution_count": null,
      "metadata": {
        "id": "waxhVZUvlyEi"
      },
      "outputs": [],
      "source": [
        "data_transforms = {\n",
        "    'train': transforms.Compose([\n",
        "        transforms.Resize((224, 224)),\n",
        "        transforms.CenterCrop(180),\n",
        "        transforms.RandomHorizontalFlip(),\n",
        "        transforms.ColorJitter(brightness=0.1, contrast=0.1, saturation=0.1),\n",
        "        transforms.RandomHorizontalFlip(),\n",
        "        transforms.RandomPerspective(distortion_scale=0.4),\n",
        "        transforms.GaussianBlur(3)\n",
        "    ]),\n",
        "    'val': transforms.Compose([\n",
        "        transforms.Resize((224, 224))\n",
        "    ])\n",
        "}\n"
      ]
    },
    {
      "cell_type": "code",
      "execution_count": null,
      "metadata": {
        "colab": {
          "base_uri": "https://localhost:8080/"
        },
        "id": "vedXlOyClyEi",
        "outputId": "653546d7-526b-453e-eda1-8709a9b68337"
      },
      "outputs": [
        {
          "name": "stdout",
          "output_type": "stream",
          "text": [
            "Device: cuda\n"
          ]
        }
      ],
      "source": [
        "device = torch.device('cuda' if torch.cuda.is_available() else 'cpu')\n",
        "print(f\"Device: {device}\")"
      ]
    },
    {
      "cell_type": "markdown",
      "metadata": {},
      "source": [
        "### **Initialize the model**"
      ]
    },
    {
      "cell_type": "code",
      "execution_count": null,
      "metadata": {
        "id": "Itrx9EVIlyEi"
      },
      "outputs": [],
      "source": [
        "image_feature_extractor = ViTImageProcessor.from_pretrained('google/vit-base-patch16-224')\n",
        "text_tokenizer = AutoTokenizer.from_pretrained('roberta-base')"
      ]
    },
    {
      "cell_type": "markdown",
      "metadata": {},
      "source": [
        "### **Create Data Loader**"
      ]
    },
    {
      "cell_type": "code",
      "execution_count": null,
      "metadata": {
        "id": "bK65YUlglyEi"
      },
      "outputs": [],
      "source": [
        "train_dataset = VQADataset(\n",
        "    data=train_data,\n",
        "    classes_to_idx=classes_to_idx,\n",
        "    img_feature_extractor=image_feature_extractor,\n",
        "    text_tokenizer=text_tokenizer,\n",
        "    device=device,\n",
        "    transforms=data_transforms['train']\n",
        ")\n",
        "\n",
        "val_dataset = VQADataset(\n",
        "    data=val_data,\n",
        "    classes_to_idx=classes_to_idx,\n",
        "    img_feature_extractor=image_feature_extractor,\n",
        "    text_tokenizer=text_tokenizer,\n",
        "    device=device,\n",
        "    transforms=data_transforms['val']\n",
        ")\n",
        "\n",
        "test_dataset = VQADataset(\n",
        "    data=test_data,\n",
        "    classes_to_idx=classes_to_idx,\n",
        "    img_feature_extractor=image_feature_extractor,\n",
        "    text_tokenizer=text_tokenizer,\n",
        "    device=device,\n",
        "    transforms=data_transforms['val']\n",
        ")"
      ]
    },
    {
      "cell_type": "code",
      "execution_count": null,
      "metadata": {
        "id": "wCwB3s2mlyEi"
      },
      "outputs": [],
      "source": [
        "train_batch_size = 1024\n",
        "test_batch_size = 128\n",
        "\n",
        "train_loader = DataLoader(\n",
        "    train_dataset,\n",
        "    batch_size=train_batch_size,\n",
        "    shuffle=True,\n",
        ")\n",
        "\n",
        "val_loader = DataLoader(\n",
        "    val_dataset,\n",
        "    batch_size=test_batch_size,\n",
        "    shuffle=False\n",
        ")\n",
        "\n",
        "test_loader = DataLoader(\n",
        "    test_dataset,\n",
        "    batch_size=test_batch_size,\n",
        "    shuffle=False\n",
        ")"
      ]
    },
    {
      "cell_type": "markdown",
      "metadata": {},
      "source": [
        "### **Visual Encoder**"
      ]
    },
    {
      "cell_type": "code",
      "execution_count": null,
      "metadata": {
        "id": "2qrgc3w_lyEi"
      },
      "outputs": [],
      "source": [
        "class VisualEncoder(nn.Module):\n",
        "    def __init__(self):\n",
        "        super(VisualEncoder, self).__init__()\n",
        "        self.model = ViTModel.from_pretrained('google/vit-base-patch16-224')\n",
        "\n",
        "    def forward(self, inputs):\n",
        "        output = self.model(**inputs)\n",
        "        return output.pooler_output"
      ]
    },
    {
      "cell_type": "markdown",
      "metadata": {},
      "source": [
        "### **Text Encoder**"
      ]
    },
    {
      "cell_type": "code",
      "execution_count": null,
      "metadata": {
        "id": "6likHUFRlyEi"
      },
      "outputs": [],
      "source": [
        "class TextEncoder(nn.Module):\n",
        "    def __init__(self):\n",
        "        super(TextEncoder, self).__init__()\n",
        "        self.model = RobertaModel.from_pretrained('roberta-base')\n",
        "\n",
        "    def forward(self, inputs):\n",
        "        outputs = self.model(**inputs)\n",
        "        return outputs.pooler_output"
      ]
    },
    {
      "cell_type": "markdown",
      "metadata": {},
      "source": [
        "### **Classifier**"
      ]
    },
    {
      "cell_type": "code",
      "execution_count": null,
      "metadata": {
        "id": "UBauWa2vlyEi"
      },
      "outputs": [],
      "source": [
        "class Classifier(nn.Module):\n",
        "    def __init__(\n",
        "        self,\n",
        "        input_size = 768*2,\n",
        "        hidden_size = 512,\n",
        "        n_layers = 1,\n",
        "        dropout_prob = 0.2,\n",
        "        n_classes = len(classes_to_idx)\n",
        "    ):\n",
        "        super(Classifier, self).__init__()\n",
        "        self.lstm = nn.LSTM(\n",
        "            input_size=input_size,\n",
        "            hidden_size=hidden_size,\n",
        "            num_layers=n_layers,\n",
        "            batch_first=True,\n",
        "            bidirectional=True\n",
        "        )\n",
        "        self.dropout = nn.Dropout(dropout_prob)\n",
        "        self.fc = nn.Linear(hidden_size*2, n_classes)\n",
        "\n",
        "    def forward(self, input):\n",
        "        output, _ = self.lstm(input)\n",
        "        output = self.dropout(output)\n",
        "        output = self.fc(output)\n",
        "        return output"
      ]
    },
    {
      "cell_type": "markdown",
      "metadata": {},
      "source": [
        "### **VQA Model**"
      ]
    },
    {
      "cell_type": "code",
      "execution_count": null,
      "metadata": {
        "id": "hb1gTG8SlyEi"
      },
      "outputs": [],
      "source": [
        "class VQAModel(nn.Module):\n",
        "    def __init__(\n",
        "        self,\n",
        "        visual_encoder,\n",
        "        text_encoder,\n",
        "        classifier\n",
        "    ):\n",
        "        super(VQAModel, self).__init__()\n",
        "        self.visual_encoder = visual_encoder\n",
        "        self.text_encoder = text_encoder\n",
        "        self.classifier = classifier\n",
        "\n",
        "    def forward(self, image, question):\n",
        "        text_encoding = self.text_encoder(question)\n",
        "        visual_encoding = self.visual_encoder(image)\n",
        "        combined_encoding = torch.cat((text_encoding, visual_encoding), dim=1)\n",
        "        output = self.classifier(combined_encoding)\n",
        "        return output\n",
        "\n",
        "    def freeze(self, visual_encoder=True, text_encoder=True, classifier=False):\n",
        "        if visual_encoder:\n",
        "            for _, param in self.visual_encoder.named_parameters():\n",
        "                param.requires_grad = False\n",
        "        if text_encoder:\n",
        "            for _, param in self.text_encoder.named_parameters():\n",
        "                param.requires_grad = False\n",
        "        if classifier:\n",
        "            for _, param in self.classifier.named_parameters():\n",
        "                param.requires_grad = False"
      ]
    },
    {
      "cell_type": "code",
      "execution_count": null,
      "metadata": {
        "id": "aPyDIFJglyEi"
      },
      "outputs": [],
      "source": [
        "n_classes = len(classes_to_idx)\n",
        "hidden_size = 265\n",
        "n_layers = 2\n",
        "dropout_prob = 0.2"
      ]
    },
    {
      "cell_type": "code",
      "execution_count": null,
      "metadata": {
        "colab": {
          "base_uri": "https://localhost:8080/"
        },
        "id": "uOhAXAn0lyEj",
        "outputId": "45d4f3d1-773c-4898-d8ed-3affbdb56f28"
      },
      "outputs": [
        {
          "name": "stderr",
          "output_type": "stream",
          "text": [
            "Some weights of ViTModel were not initialized from the model checkpoint at google/vit-base-patch16-224 and are newly initialized: ['vit.pooler.dense.bias', 'vit.pooler.dense.weight']\n",
            "You should probably TRAIN this model on a down-stream task to be able to use it for predictions and inference.\n",
            "Some weights of RobertaModel were not initialized from the model checkpoint at roberta-base and are newly initialized: ['roberta.pooler.dense.bias', 'roberta.pooler.dense.weight']\n",
            "You should probably TRAIN this model on a down-stream task to be able to use it for predictions and inference.\n"
          ]
        }
      ],
      "source": [
        "visual_encoder = VisualEncoder().to(device)\n",
        "text_encoder = TextEncoder().to(device)\n",
        "classifier = Classifier(\n",
        "    input_size=768*2,\n",
        "    hidden_size=hidden_size,\n",
        "    n_layers=n_layers,\n",
        "    dropout_prob=dropout_prob,\n",
        "    n_classes=n_classes\n",
        ").to(device)\n",
        "\n",
        "model = VQAModel(\n",
        "    visual_encoder=visual_encoder,\n",
        "    text_encoder=text_encoder,\n",
        "    classifier=classifier\n",
        ").to(device)\n",
        "model.freeze()"
      ]
    },
    {
      "cell_type": "markdown",
      "metadata": {},
      "source": [
        "### **Evaluation**"
      ]
    },
    {
      "cell_type": "code",
      "execution_count": null,
      "metadata": {
        "id": "wWv_pz_dlyEj"
      },
      "outputs": [],
      "source": [
        "def evaluate(model, data_loader, criterion, device):\n",
        "    model.eval()\n",
        "    losses = []\n",
        "    total_correct = 0\n",
        "    total_samples = 0\n",
        "\n",
        "    with torch.no_grad():\n",
        "        for sample in data_loader:\n",
        "            image = sample['image']\n",
        "            question = sample['question']\n",
        "            answer = sample['answer']\n",
        "\n",
        "            output = model(image, question)\n",
        "            loss = criterion(output, answer)\n",
        "            losses.append(loss.item())\n",
        "\n",
        "            _, preds = torch.max(output, 1)\n",
        "            total_correct += (preds == answer).sum()\n",
        "            total_samples += answer.size(0)\n",
        "\n",
        "    avg_loss = sum(losses) / len(losses)\n",
        "    accuracy = total_correct / total_samples\n",
        "\n",
        "    return avg_loss, accuracy"
      ]
    },
    {
      "cell_type": "markdown",
      "metadata": {},
      "source": [
        "### **Training**"
      ]
    },
    {
      "cell_type": "code",
      "execution_count": null,
      "metadata": {
        "id": "IfUOfyJHlyEj"
      },
      "outputs": [],
      "source": [
        "def fit(\n",
        "    model,\n",
        "    train_loader,\n",
        "    val_loader,\n",
        "    criterion,\n",
        "    optimizer,\n",
        "    scheduler,\n",
        "    device,\n",
        "    n_epochs=10\n",
        "):\n",
        "    train_losses = []\n",
        "    val_losses = []\n",
        "    train_accuracies = []\n",
        "    val_accuracies = []\n",
        "\n",
        "    for epoch in range(n_epochs):\n",
        "        model.train()\n",
        "        batch_losses = []\n",
        "        total_correct = 0\n",
        "        total_samples = 0\n",
        "\n",
        "        for sample in train_loader:\n",
        "            image = sample['image']\n",
        "            question = sample['question']\n",
        "            answer = sample['answer']\n",
        "\n",
        "            output = model(image, question)\n",
        "            loss = criterion(output, answer)\n",
        "            batch_losses.append(loss.item())\n",
        "\n",
        "            optimizer.zero_grad()\n",
        "            loss.backward()\n",
        "            optimizer.step()\n",
        "\n",
        "            _, preds = torch.max(output, 1)\n",
        "            total_correct += (preds == answer).sum()\n",
        "            total_samples += answer.size(0)\n",
        "\n",
        "        batch_train_loss = sum(batch_losses) / len(batch_losses)\n",
        "        train_losses.append(batch_train_loss)\n",
        "        train_accuracy = total_correct / total_samples\n",
        "        train_accuracies.append(train_accuracy)\n",
        "\n",
        "        val_loss, val_accuracy = evaluate(model, val_loader, criterion, device)\n",
        "        val_losses.append(val_loss)\n",
        "        val_accuracies.append(val_accuracy)\n",
        "\n",
        "        print(f\"Epoch: {epoch+1}/{n_epochs}, Train Loss: {batch_train_loss:.4f}, Train Accuracy: {train_accuracy:.4f}, Val Loss: {val_loss:.4f}, Val Accuracy: {val_accuracy:.4f}\")\n",
        "        scheduler.step(val_loss)\n",
        "\n",
        "    return train_losses, val_losses, train_accuracies, val_accuracies"
      ]
    },
    {
      "cell_type": "code",
      "execution_count": null,
      "metadata": {
        "id": "-LUOYwO0lyEj"
      },
      "outputs": [],
      "source": [
        "lr = 1e-3\n",
        "n_epochs = 20\n",
        "scheduler_step_size = n_epochs * 0.6\n",
        "criterion = nn.CrossEntropyLoss()\n",
        "weight_decay = 1e-5\n",
        "\n",
        "optimizer = torch.optim.Adam(model.parameters(), lr=lr)\n",
        "scheduler = torch.optim.lr_scheduler.StepLR(\n",
        "    optimizer,\n",
        "    step_size=scheduler_step_size,\n",
        "    gamma=0.1\n",
        ")"
      ]
    },
    {
      "cell_type": "code",
      "execution_count": null,
      "metadata": {
        "colab": {
          "base_uri": "https://localhost:8080/"
        },
        "id": "DBaEnjhQlyEj",
        "outputId": "d603211a-410d-4241-bd34-cca5b7963045"
      },
      "outputs": [
        {
          "name": "stdout",
          "output_type": "stream",
          "text": [
            "cuda\n"
          ]
        }
      ],
      "source": [
        "print(device)"
      ]
    },
    {
      "cell_type": "code",
      "execution_count": null,
      "metadata": {
        "colab": {
          "base_uri": "https://localhost:8080/"
        },
        "id": "3SbDbgLPlyEj",
        "outputId": "d36c83ca-f031-4cad-fc2d-5ebbd30f7f8d"
      },
      "outputs": [
        {
          "name": "stdout",
          "output_type": "stream",
          "text": [
            "Epoch: 1/20, Train Loss: 0.7015, Train Accuracy: 0.4986, Val Loss: 0.6908, Val Accuracy: 0.5359\n",
            "Epoch: 2/20, Train Loss: 0.6925, Train Accuracy: 0.5189, Val Loss: 0.6923, Val Accuracy: 0.5338\n",
            "Epoch: 3/20, Train Loss: 0.6914, Train Accuracy: 0.5325, Val Loss: 0.6904, Val Accuracy: 0.5256\n",
            "Epoch: 4/20, Train Loss: 0.6891, Train Accuracy: 0.5293, Val Loss: 0.6911, Val Accuracy: 0.5343\n",
            "Epoch: 5/20, Train Loss: 0.6852, Train Accuracy: 0.5515, Val Loss: 0.6895, Val Accuracy: 0.5425\n",
            "Epoch: 6/20, Train Loss: 0.6810, Train Accuracy: 0.5647, Val Loss: 0.6848, Val Accuracy: 0.5425\n",
            "Epoch: 7/20, Train Loss: 0.6739, Train Accuracy: 0.5783, Val Loss: 0.6818, Val Accuracy: 0.5543\n",
            "Epoch: 8/20, Train Loss: 0.6732, Train Accuracy: 0.5846, Val Loss: 0.6794, Val Accuracy: 0.5610\n",
            "Epoch: 9/20, Train Loss: 0.6636, Train Accuracy: 0.6008, Val Loss: 0.6808, Val Accuracy: 0.5712\n",
            "Epoch: 10/20, Train Loss: 0.6587, Train Accuracy: 0.6025, Val Loss: 0.6753, Val Accuracy: 0.5743\n",
            "Epoch: 11/20, Train Loss: 0.6449, Train Accuracy: 0.6197, Val Loss: 0.6782, Val Accuracy: 0.5799\n",
            "Epoch: 12/20, Train Loss: 0.6354, Train Accuracy: 0.6269, Val Loss: 0.6807, Val Accuracy: 0.5779\n",
            "Epoch: 13/20, Train Loss: 0.6169, Train Accuracy: 0.6542, Val Loss: 0.6798, Val Accuracy: 0.5835\n",
            "Epoch: 14/20, Train Loss: 0.6015, Train Accuracy: 0.6705, Val Loss: 0.6837, Val Accuracy: 0.5830\n",
            "Epoch: 15/20, Train Loss: 0.5791, Train Accuracy: 0.6958, Val Loss: 0.7058, Val Accuracy: 0.6019\n",
            "Epoch: 16/20, Train Loss: 0.5539, Train Accuracy: 0.7142, Val Loss: 0.6994, Val Accuracy: 0.5840\n",
            "Epoch: 17/20, Train Loss: 0.5305, Train Accuracy: 0.7284, Val Loss: 0.6940, Val Accuracy: 0.6014\n",
            "Epoch: 18/20, Train Loss: 0.5176, Train Accuracy: 0.7391, Val Loss: 0.7072, Val Accuracy: 0.6071\n",
            "Epoch: 19/20, Train Loss: 0.4852, Train Accuracy: 0.7652, Val Loss: 0.7281, Val Accuracy: 0.6276\n",
            "Epoch: 20/20, Train Loss: 0.4716, Train Accuracy: 0.7729, Val Loss: 0.7087, Val Accuracy: 0.6214\n"
          ]
        }
      ],
      "source": [
        "train_losses, val_losses, train_accuracies, val_accuracies = fit(\n",
        "    model,\n",
        "    train_loader,\n",
        "    val_loader,\n",
        "    criterion,\n",
        "    optimizer,\n",
        "    scheduler,\n",
        "    device,\n",
        "    n_epochs=n_epochs\n",
        ")"
      ]
    },
    {
      "cell_type": "code",
      "execution_count": null,
      "metadata": {
        "colab": {
          "base_uri": "https://localhost:8080/"
        },
        "id": "DsnZ8I1hlyEj",
        "outputId": "3b317dd5-c3ab-4e34-a75a-703a15d6fe1c"
      },
      "outputs": [
        {
          "name": "stdout",
          "output_type": "stream",
          "text": [
            "Validation Loss: 0.7087, Validation Accuracy: 0.6214\n",
            "Test Loss: 0.7066, Test Accuracy: 0.6316\n"
          ]
        }
      ],
      "source": [
        "val_loss, val_accuracy = evaluate(model, val_loader, criterion, device)\n",
        "test_loss, test_accuracy = evaluate(model, test_loader, criterion, device)\n",
        "print(f\"Validation Loss: {val_loss:.4f}, Validation Accuracy: {val_accuracy:.4f}\")\n",
        "print(f\"Test Loss: {test_loss:.4f}, Test Accuracy: {test_accuracy:.4f}\")"
      ]
    },
    {
      "cell_type": "code",
      "execution_count": null,
      "metadata": {
        "id": "OnMnk5FZLlRn"
      },
      "outputs": [],
      "source": [
        "torch.save(model.state_dict(), 'model.pth')"
      ]
    }
  ],
  "metadata": {
    "accelerator": "GPU",
    "colab": {
      "gpuType": "T4",
      "provenance": []
    },
    "kernelspec": {
      "display_name": "torch",
      "language": "python",
      "name": "python3"
    },
    "language_info": {
      "codemirror_mode": {
        "name": "ipython",
        "version": 3
      },
      "file_extension": ".py",
      "mimetype": "text/x-python",
      "name": "python",
      "nbconvert_exporter": "python",
      "pygments_lexer": "ipython3",
      "version": "3.12.7"
    }
  },
  "nbformat": 4,
  "nbformat_minor": 0
}
